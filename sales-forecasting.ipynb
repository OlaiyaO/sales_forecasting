{
 "cells": [
  {
   "cell_type": "code",
   "execution_count": null,
   "id": "18685e5d",
   "metadata": {
    "_cell_guid": "b1076dfc-b9ad-4769-8c92-a6c4dae69d19",
    "_uuid": "8f2839f25d086af736a60e9eeb907d3b93b6e0e5",
    "papermill": {
     "duration": 0.002095,
     "end_time": "2023-05-09T01:48:17.771905",
     "exception": false,
     "start_time": "2023-05-09T01:48:17.769810",
     "status": "completed"
    },
    "tags": []
   },
   "outputs": [],
   "source": []
  },
  {
   "cell_type": "markdown",
   "id": "c927c848",
   "metadata": {
    "papermill": {
     "duration": 0.001303,
     "end_time": "2023-05-09T01:48:17.775004",
     "exception": false,
     "start_time": "2023-05-09T01:48:17.773701",
     "status": "completed"
    },
    "tags": []
   },
   "source": [
    "**Exploratory Data Analysis**"
   ]
  },
  {
   "cell_type": "code",
   "execution_count": 1,
   "id": "c78a458d",
   "metadata": {
    "execution": {
     "iopub.execute_input": "2023-05-09T01:48:17.781524Z",
     "iopub.status.busy": "2023-05-09T01:48:17.780904Z",
     "iopub.status.idle": "2023-05-09T01:48:19.034160Z",
     "shell.execute_reply": "2023-05-09T01:48:19.032962Z"
    },
    "papermill": {
     "duration": 1.260769,
     "end_time": "2023-05-09T01:48:19.037251",
     "exception": false,
     "start_time": "2023-05-09T01:48:17.776482",
     "status": "completed"
    },
    "tags": []
   },
   "outputs": [
    {
     "name": "stderr",
     "output_type": "stream",
     "text": [
      "/opt/conda/lib/python3.10/site-packages/scipy/__init__.py:146: UserWarning: A NumPy version >=1.16.5 and <1.23.0 is required for this version of SciPy (detected version 1.23.5\n",
      "  warnings.warn(f\"A NumPy version >={np_minversion} and <{np_maxversion}\"\n"
     ]
    }
   ],
   "source": [
    "#importing libraries to be used \n",
    "import pandas as pd\n",
    "import numpy as np\n",
    "import matplotlib.pyplot as plt\n",
    "import seaborn as sns\n",
    "import time\n",
    "import matplotlib.ticker as ticker"
   ]
  }
 ],
 "metadata": {
  "kernelspec": {
   "display_name": "Python 3",
   "language": "python",
   "name": "python3"
  },
  "language_info": {
   "codemirror_mode": {
    "name": "ipython",
    "version": 3
   },
   "file_extension": ".py",
   "mimetype": "text/x-python",
   "name": "python",
   "nbconvert_exporter": "python",
   "pygments_lexer": "ipython3",
   "version": "3.10.10"
  },
  "papermill": {
   "default_parameters": {},
   "duration": 12.963392,
   "end_time": "2023-05-09T01:48:20.062691",
   "environment_variables": {},
   "exception": null,
   "input_path": "__notebook__.ipynb",
   "output_path": "__notebook__.ipynb",
   "parameters": {},
   "start_time": "2023-05-09T01:48:07.099299",
   "version": "2.4.0"
  }
 },
 "nbformat": 4,
 "nbformat_minor": 5
}
